{
 "cells": [
  {
   "cell_type": "code",
   "execution_count": 1,
   "metadata": {},
   "outputs": [],
   "source": [
    "import pandas as pd\n",
    "import numpy as np\n",
    "import re\n",
    "import sklearn\n",
    "from sklearn.utils import resample\n",
    "\n",
    "#For Plotting\n",
    "import matplotlib.pyplot as plt\n",
    "import seaborn as sns\n",
    "from sklearn.model_selection import train_test_split\n",
    "from sklearn.metrics import roc_curve, roc_auc_score\n",
    "import itertools\n",
    "\n",
    "#For model building\n",
    "import sklearn \n",
    "from sklearn.linear_model import LogisticRegression\n",
    "from sklearn.ensemble import RandomForestClassifier\n",
    "from sklearn.model_selection import RandomizedSearchCV\n",
    "from sklearn.tree import DecisionTreeClassifier\n",
    "from sklearn.neighbors import KNeighborsClassifier\n",
    "from sklearn.naive_bayes import GaussianNB\n",
    "\n",
    "\n",
    "def normalize_list(input_list):\n",
    "    min_val = min(input_list)\n",
    "    max_val = max(input_list)\n",
    "    \n",
    "    if min_val == max_val:\n",
    "        # Handle the case where all values are the same to avoid division by zero\n",
    "        return [0.0] * len(input_list)\n",
    "    \n",
    "    normalized_list = [(x - min_val) / (max_val - min_val) for x in input_list]\n",
    "    \n",
    "    return normalized_list"
   ]
  },
  {
   "cell_type": "code",
   "execution_count": 2,
   "metadata": {},
   "outputs": [],
   "source": [
    "train_data = pd.read_csv('train.csv')"
   ]
  },
  {
   "cell_type": "code",
   "execution_count": 3,
   "metadata": {},
   "outputs": [],
   "source": [
    "train_data = train_data.drop(['policy_id'], axis=1)"
   ]
  },
  {
   "cell_type": "code",
   "execution_count": 4,
   "metadata": {},
   "outputs": [
    {
     "data": {
      "image/png": "[encoded data removed]",
      "text/plain": [
       "<Figure size 640x480 with 1 Axes>"
      ]
     },
     "metadata": {},
     "output_type": "display_data"
    }
   ],
   "source": [
    "fig = plt.figure(facecolor='white')\n",
    "\n",
    "ax = fig.add_subplot(1, 1, 1, facecolor='white')\n",
    "\n",
    "plt.pie(train_data['is_claim'].value_counts(), labels=['No Claim', 'Claim'], radius=1, colors=['green', 'orange'],\n",
    "        autopct='%1.1f%%', explode=[0.1, 0.15], labeldistance=1.15, startangle=45,\n",
    "        textprops={'fontsize': 15, 'fontweight': 'bold'})\n",
    "\n",
    "plt.legend(title='Outcome:', loc='upper right', bbox_to_anchor=(1.6, 1))\n",
    "\n",
    "fig.patch.set_facecolor('white')\n",
    "\n",
    "plt.show()"
   ]
  },
  {
   "cell_type": "code",
   "execution_count": 5,
   "metadata": {},
   "outputs": [],
   "source": [
    "train_data['max_torque'].value_counts()\n",
    "train_data['torque'] = train_data['max_torque'].apply(lambda x: re.findall(r'\\d+\\.?\\d*(?=Nm)', x)[0])\n",
    "train_data['rpm'] = train_data['max_torque'].apply(lambda x: re.findall(r'\\d+\\.?\\d*(?=rpm)', x)[0])\n",
    "\n",
    "# Convert the columns to numeric data type\n",
    "train_data['torque'] = pd.to_numeric(train_data['torque'])\n",
    "train_data['rpm'] = pd.to_numeric(train_data['rpm'])\n",
    "\n",
    "# Calculate torque to RPM ratio \n",
    "train_data['torque to rpm ratio'] = train_data['torque'] / train_data['rpm']"
   ]
  },
  {
   "cell_type": "code",
   "execution_count": 6,
   "metadata": {},
   "outputs": [],
   "source": [
    "# Deleting redundant columns from training set\n",
    "train_data.drop('max_torque', axis=1,inplace=True)\n",
    "train_data.drop('rpm',axis=1,inplace=True)\n",
    "train_data.drop('torque',axis=1,inplace=True)"
   ]
  },
  {
   "cell_type": "code",
   "execution_count": 7,
   "metadata": {},
   "outputs": [
    {
     "data": {
      "text/plain": [
       "max_power\n",
       "88.50bhp@6000rpm     17796\n",
       "40.36bhp@6000rpm     14948\n",
       "113.45bhp@4000rpm    14018\n",
       "55.92bhp@5300rpm      4173\n",
       "67.06bhp@5500rpm      2373\n",
       "97.89bhp@3600rpm      2114\n",
       "88.77bhp@4000rpm      1598\n",
       "61.68bhp@6000rpm      1209\n",
       "118.36bhp@5500rpm      363\n",
       "Name: count, dtype: int64"
      ]
     },
     "execution_count": 7,
     "metadata": {},
     "output_type": "execute_result"
    }
   ],
   "source": [
    "train_data['max_power'].value_counts()"
   ]
  },
  {
   "cell_type": "code",
   "execution_count": 8,
   "metadata": {},
   "outputs": [],
   "source": [
    "train_data['power'] = train_data['max_power'].apply(lambda x: re.findall(r'\\d+\\.?\\d*(?=bhp)', x)[0])\n",
    "train_data['rpm'] = train_data['max_power'].apply(lambda x: re.findall(r'\\d+', x)[-1])\n",
    "\n",
    "# Convert the columns to numeric data type\n",
    "train_data['power'] = pd.to_numeric(train_data['power'])\n",
    "train_data['rpm'] = pd.to_numeric(train_data['rpm'])\n",
    "\n",
    "# Calculate power to RPM ratio\n",
    "train_data['power to rpm ratio'] = train_data['power'] / train_data['rpm']"
   ]
  },
  {
   "cell_type": "code",
   "execution_count": 9,
   "metadata": {},
   "outputs": [],
   "source": [
    "train_data.drop('power', axis=1,inplace=True)\n",
    "train_data.drop('rpm',axis=1,inplace=True)\n",
    "train_data.drop('max_power',axis=1,inplace=True)"
   ]
  },
  {
   "cell_type": "code",
   "execution_count": 10,
   "metadata": {},
   "outputs": [
    {
     "name": "stdout",
     "output_type": "stream",
     "text": [
      "['is_esc', 'is_adjustable_steering', 'is_tpms', 'is_parking_sensors', 'is_parking_camera', 'is_front_fog_lights', 'is_rear_window_wiper', 'is_rear_window_washer', 'is_rear_window_defogger', 'is_brake_assist', 'is_power_door_locks', 'is_central_locking', 'is_power_steering', 'is_driver_seat_height_adjustable', 'is_day_night_rear_view_mirror', 'is_ecw', 'is_speed_alert']\n"
     ]
    }
   ],
   "source": [
    "is_cols=[col for col in train_data.columns if col.startswith(\"is\") and col!=\"is_claim\"]\n",
    "print(is_cols)"
   ]
  },
  {
   "cell_type": "code",
   "execution_count": 11,
   "metadata": {},
   "outputs": [],
   "source": [
    "train_data = train_data.replace({ \"No\" : 0 , \"Yes\" : 1 })"
   ]
  },
  {
   "cell_type": "code",
   "execution_count": 12,
   "metadata": {},
   "outputs": [
    {
     "name": "stdout",
     "output_type": "stream",
     "text": [
      " Data Set Numerical columns:\n",
      "35\n",
      "Index(['policy_tenure', 'age_of_car', 'age_of_policyholder',\n",
      "       'population_density', 'make', 'airbags', 'is_esc',\n",
      "       'is_adjustable_steering', 'is_tpms', 'is_parking_sensors',\n",
      "       'is_parking_camera', 'displacement', 'cylinder', 'gear_box',\n",
      "       'turning_radius', 'length', 'width', 'height', 'gross_weight',\n",
      "       'is_front_fog_lights', 'is_rear_window_wiper', 'is_rear_window_washer',\n",
      "       'is_rear_window_defogger', 'is_brake_assist', 'is_power_door_locks',\n",
      "       'is_central_locking', 'is_power_steering',\n",
      "       'is_driver_seat_height_adjustable', 'is_day_night_rear_view_mirror',\n",
      "       'is_ecw', 'is_speed_alert', 'ncap_rating', 'is_claim',\n",
      "       'torque to rpm ratio', 'power to rpm ratio'],\n",
      "      dtype='object')\n"
     ]
    }
   ],
   "source": [
    "dataset_num_col = train_data.select_dtypes(include=['int', 'float']).columns\n",
    "print(\" Data Set Numerical columns:\")\n",
    "print(dataset_num_col.nunique())\n",
    "print(dataset_num_col)"
   ]
  },
  {
   "cell_type": "code",
   "execution_count": 13,
   "metadata": {},
   "outputs": [
    {
     "name": "stdout",
     "output_type": "stream",
     "text": [
      "Data Set categorical columns:\n",
      "8\n",
      "Index(['area_cluster', 'segment', 'model', 'fuel_type', 'engine_type',\n",
      "       'rear_brakes_type', 'transmission_type', 'steering_type'],\n",
      "      dtype='object')\n"
     ]
    }
   ],
   "source": [
    "dataset_cat_cols = train_data.select_dtypes(include=['object']).columns\n",
    "print(\"Data Set categorical columns:\")\n",
    "print(dataset_cat_cols.nunique())\n",
    "print(dataset_cat_cols)"
   ]
  },
  {
   "cell_type": "code",
   "execution_count": 14,
   "metadata": {},
   "outputs": [],
   "source": [
    "train_data= pd.get_dummies(train_data, columns=dataset_cat_cols,drop_first=True)\n"
   ]
  },
  {
   "cell_type": "code",
   "execution_count": 15,
   "metadata": {},
   "outputs": [
    {
     "name": "stdout",
     "output_type": "stream",
     "text": [
      "\u001b[1mBefore Over Sampling\u001b[0m\n",
      "\n",
      "Shape of the data : (58592, 87)\n",
      "\n",
      "Value Counts\n",
      "is_claim\n",
      "0    54844\n",
      "1     3748\n",
      "Name: count, dtype: int64\n",
      "\n",
      "Data is Imbalanced\n",
      "\n",
      "\u001b[1mAfter Over Sampling\u001b[0m\n",
      "\n",
      "Shape of the data : (109688, 87)\n",
      "\n",
      "Value Counts\n",
      "is_claim\n",
      "0    54844\n",
      "1    54844\n",
      "Name: count, dtype: int64\n"
     ]
    }
   ],
   "source": [
    "from imblearn.over_sampling import RandomOverSampler, SMOTE\n",
    "\n",
    "def imbalanced_data(X_data, y_data):\n",
    "    \n",
    "    minority_class, majority_class = y_data.value_counts().sort_values().values\n",
    "    print('\\033[1m' + \"Before Over Sampling\" + '\\033[0m')\n",
    "    print(f\"\\nShape of the data : {X_data.shape}\\n\\nValue Counts\\n{y_data.value_counts()}\")\n",
    "    \n",
    "    if (minority_class * 2) > majority_class:\n",
    "        print(\"Data is Balanced\")\n",
    "    else:\n",
    "        print(f\"\\nData is Imbalanced\")\n",
    "        print('\\n\\033[1m' + \"After Over Sampling\" + '\\033[0m\\n')\n",
    "        X_data, y_data = SMOTE().fit_resample(X_data, y_data)\n",
    "        print(f\"Shape of the data : {X_data.shape}\\n\\nValue Counts\\n{y_data.value_counts()}\")\n",
    "        \n",
    "    return X_data, y_data\n",
    "y = train_data['is_claim']\n",
    "train_data, y = imbalanced_data(train_data, y)"
   ]
  },
  {
   "cell_type": "code",
   "execution_count": 16,
   "metadata": {},
   "outputs": [],
   "source": [
    "X = train_data.drop(['is_claim'], axis=1)  # Features\n",
    "\n",
    "from sklearn.preprocessing import StandardScaler\n",
    "X_train,X_test,y_train,y_test=train_test_split(X,y,test_size=0.2,random_state=42,stratify=y)\n",
    "X_val,X_test,y_val,y_test=train_test_split(X_test,y_test,test_size=0.5,random_state=42,stratify=y_test)\n",
    "boolean_columns = X_train.select_dtypes(include=['bool']).columns\n",
    "for i in boolean_columns:\n",
    "    X_train[i] = X_train[i].astype(int)\n",
    "    X_val[i] = X_val[i].astype(int)\n",
    "    X_test[i] = X_test[i].astype(int)\n",
    "\n",
    "X_train_df = X_train.copy()\n",
    "X_val_df = X_val.copy()\n",
    "X_test_df = X_test.copy()\n",
    "\n",
    "from sklearn.preprocessing import StandardScaler, Normalizer\n",
    "X_train = StandardScaler().fit_transform(X_train)\n",
    "X_val = StandardScaler().fit_transform(X_val)\n",
    "X_test = StandardScaler().fit_transform(X_test)"
   ]
  },
  {
   "cell_type": "code",
   "execution_count": 17,
   "metadata": {},
   "outputs": [
    {
     "data": {
      "image/png": "[encoded data removed]",
      "text/plain": [
       "<Figure size 1000x600 with 1 Axes>"
      ]
     },
     "metadata": {},
     "output_type": "display_data"
    },
    {
     "name": "stdout",
     "output_type": "stream",
     "text": [
      "['policy_tenure', 'age_of_car', 'age_of_policyholder', 'population_density', 'area_cluster_C10', 'area_cluster_C9', 'area_cluster_C3', 'area_cluster_C8', 'area_cluster_C15', 'area_cluster_C2']\n"
     ]
    }
   ],
   "source": [
    "import model\n",
    "\n",
    "classifier = model.LinearClassifier()\n",
    "classifier.fit(X_train, y_train, X_val, y_val, re=False)\n",
    "importance = classifier.get_feature_importance()\n",
    "\n",
    "feature_names = list(X_train_df.columns)\n",
    "len(feature_names),len(importance)\n",
    "sorted_indices = np.argsort(importance)[::-1]\n",
    "sorted_importance = importance[sorted_indices]\n",
    "sorted_feature_names = [feature_names[i] for i in sorted_indices]\n",
    "\n",
    "sorted_importance = normalize_list(sorted_importance)\n",
    "\n",
    "top_n = len([value for i, value in enumerate(sorted_importance) if value > 0.12])\n",
    "top_n = 10\n",
    "\n",
    "plt.figure(figsize=(10, 6))\n",
    "plt.barh(range(top_n), sorted_importance[:top_n], tick_label=sorted_feature_names[:top_n])\n",
    "plt.title('Top 10 Feature Importance')\n",
    "plt.xlabel('Importance')\n",
    "plt.ylabel('Features')\n",
    "plt.subplots_adjust(left=0.2) \n",
    "plt.savefig(\"Linear Feature Importance.jpg\")\n",
    "plt.show()\n",
    "\n",
    "print(sorted_feature_names[:top_n])\n",
    "classifier_feature = sorted_feature_names[:top_n]"
   ]
  },
  {
   "cell_type": "code",
   "execution_count": 18,
   "metadata": {},
   "outputs": [
    {
     "data": {
      "image/png": "[encoded data removed]",
      "text/plain": [
       "<Figure size 1000x600 with 1 Axes>"
      ]
     },
     "metadata": {},
     "output_type": "display_data"
    },
    {
     "name": "stdout",
     "output_type": "stream",
     "text": [
      "['age_of_car', 'age_of_policyholder', 'policy_tenure', 'model_M6', 'is_adjustable_steering', 'displacement', 'length', 'is_speed_alert', 'torque to rpm ratio', 'area_cluster_C5', 'area_cluster_C8', 'area_cluster_C18']\n"
     ]
    }
   ],
   "source": [
    "import model\n",
    "\n",
    "Ptree = model.PruneDecisionTreeClassifier(max_depth=5, min_samples_split=2)  # 設置樹的最大深度\n",
    "Ptree.fit(X_train, y_train)\n",
    "importance = Ptree.feature_importance(X_train, y_train)  # Pass your feature matrix 'X_train' and target vector 'y_train'\n",
    "feature_names = list(X_train_df.columns)\n",
    "len(feature_names),len(importance)\n",
    "sorted_indices = np.argsort(importance)[::-1]\n",
    "sorted_importance = importance[sorted_indices]\n",
    "sorted_feature_names = [feature_names[i] for i in sorted_indices]\n",
    "\n",
    "sorted_importance = normalize_list(sorted_importance)\n",
    "\n",
    "top_n = len([value for i, value in enumerate(sorted_importance) if value > 0.01])\n",
    "\n",
    "plt.figure(figsize=(10, 6))\n",
    "plt.barh(range(top_n), sorted_importance[:top_n], tick_label=sorted_feature_names[:top_n])\n",
    "plt.title('Top 10 Feature Importance')\n",
    "plt.xlabel('Importance')\n",
    "plt.ylabel('Features')\n",
    "plt.subplots_adjust(left=0.2) \n",
    "plt.savefig(\"Decision Tree Feature Importance.jpg\")\n",
    "plt.show()\n",
    "\n",
    "print(sorted_feature_names[:top_n])\n",
    "tree_feature = sorted_feature_names[:top_n]"
   ]
  },
  {
   "cell_type": "code",
   "execution_count": 19,
   "metadata": {},
   "outputs": [
    {
     "name": "stdout",
     "output_type": "stream",
     "text": [
      "(109688, 18)\n"
     ]
    }
   ],
   "source": [
    "#特徵篩選\n",
    "merged_feature_list = list(set(classifier_feature + tree_feature))\n",
    "X = X[merged_feature_list]\n",
    "print(X.shape)\n",
    "#分割train:val:test = 8:1:1\n",
    "X_train,X_test,y_train,y_test=train_test_split(X,y,test_size=0.2,random_state=42,stratify=y)\n",
    "\n",
    "boolean_columns = X_train.select_dtypes(include=['bool']).columns\n",
    "\n",
    "for i in boolean_columns:\n",
    "    X_train[i] = X_train[i].astype(int)\n",
    "    X_test[i] = X_test[i].astype(int)\n",
    "\n",
    "X_train_df = X_train.copy()\n",
    "X_test_df = X_test.copy()\n",
    "\n",
    "from sklearn.preprocessing import StandardScaler, Normalizer\n",
    "X_train = StandardScaler().fit_transform(X_train)\n",
    "X_test = StandardScaler().fit_transform(X_test)"
   ]
  },
  {
   "cell_type": "code",
   "execution_count": 20,
   "metadata": {},
   "outputs": [
    {
     "name": "stdout",
     "output_type": "stream",
     "text": [
      "(109688, 18)\n"
     ]
    }
   ],
   "source": [
    "#特徵篩選\n",
    "merged_feature_list = list(set(classifier_feature + tree_feature))\n",
    "X = X[merged_feature_list]\n",
    "print(X.shape)\n",
    "#分割train:val:test = 8:1:1\n",
    "X_train,X_test,y_train,y_test=train_test_split(X,y,test_size=0.2,random_state=42,stratify=y)\n",
    "X_val,X_test,y_val,y_test=train_test_split(X_test,y_test,test_size=0.5,random_state=42,stratify=y_test)\n",
    "\n",
    "boolean_columns = X_train.select_dtypes(include=['bool']).columns\n",
    "\n",
    "for i in boolean_columns:\n",
    "    X_train[i] = X_train[i].astype(int)\n",
    "    X_val[i] = X_val[i].astype(int)\n",
    "    X_test[i] = X_test[i].astype(int)\n",
    "\n",
    "X_train_df = X_train.copy()\n",
    "X_val_df = X_val.copy()\n",
    "X_test_df = X_test.copy()\n",
    "\n",
    "from sklearn.preprocessing import StandardScaler, Normalizer\n",
    "X_train = StandardScaler().fit_transform(X_train)\n",
    "X_val = StandardScaler().fit_transform(X_val)\n",
    "X_test = StandardScaler().fit_transform(X_test)"
   ]
  },
  {
   "cell_type": "markdown",
   "metadata": {},
   "source": [
    "###########################第三題開始###########################"
   ]
  },
  {
   "cell_type": "code",
   "execution_count": 21,
   "metadata": {},
   "outputs": [
    {
     "name": "stdout",
     "output_type": "stream",
     "text": [
      "開始執行4個模型 3 folds跟Voting\n",
      "LinearClassifier訓練精確度: 57.29% | 驗證精確度: 57.90%\n",
      "LinearClassifier訓練精確度: 57.77% | 驗證精確度: 57.12%\n",
      "LinearClassifier訓練精確度: 57.61% | 驗證精確度: 57.57%\n",
      "LinearClassifier K-Fold 交叉驗證完成。\n",
      "LinearClassifier平均訓練精確度: 57.56%\n",
      "LinearClassifier平均驗證精確度: 57.53%\n",
      "kNN of Accuracy for Fold 1: 0.7778119658119658\n",
      "kNN of Accuracy for Fold 2: 0.7755897435897436\n",
      "kNN of Accuracy for Fold 3: 0.7778119658119658\n",
      "kNN of Mean Accuracy across 3 folds: 0.7770712250712251\n",
      "DecisionTree of Fold 1: Accuracy = 0.887931623931624\n",
      "DecisionTree of Fold 2: Accuracy = 0.8873504273504274\n",
      "DecisionTree of Fold 3: Accuracy = 0.8838974358974359\n",
      "DecisionTree of Average Accuracy: 0.8863931623931623\n",
      "第 1 折的 PruneDecisionTree 準確度：0.6424273504273504\n",
      "第 2 折的 PruneDecisionTree 準確度：0.638051282051282\n",
      "第 3 折的 PruneDecisionTree 準確度：0.6395555555555555\n",
      "平均 PruneDecisionTree 準確度：0.640011396011396\n",
      "VotingClassifier of Fold 10969 Average Accuracy: 0.6802807913209955\n",
      "VotingClassifier of Fold 10969 Average Accuracy: 0.6706171939101103\n",
      "VotingClassifier of Fold 10969 Average Accuracy: 0.6662412252712189\n",
      "平均 VotingClassifier 準確度：0.6723797368341082\n",
      "開始執行4個模型 5 folds跟Voting\n",
      "LinearClassifier訓練精確度: 57.39% | 驗證精確度: 57.98%\n",
      "LinearClassifier訓練精確度: 57.58% | 驗證精確度: 57.65%\n",
      "LinearClassifier訓練精確度: 57.66% | 驗證精確度: 56.83%\n",
      "LinearClassifier訓練精確度: 57.63% | 驗證精確度: 57.41%\n",
      "LinearClassifier訓練精確度: 57.57% | 驗證精確度: 57.57%\n",
      "LinearClassifier K-Fold 交叉驗證完成。\n",
      "LinearClassifier平均訓練精確度: 57.57%\n",
      "LinearClassifier平均驗證精確度: 57.49%\n",
      "kNN of Accuracy for Fold 1: 0.7893447293447293\n",
      "kNN of Accuracy for Fold 2: 0.7851282051282051\n",
      "kNN of Accuracy for Fold 3: 0.7887179487179488\n",
      "kNN of Accuracy for Fold 4: 0.7859259259259259\n",
      "kNN of Accuracy for Fold 5: 0.7872364672364672\n",
      "kNN of Mean Accuracy across 5 folds: 0.7872706552706553\n",
      "DecisionTree of Fold 1: Accuracy = 0.8973789173789174\n",
      "DecisionTree of Fold 2: Accuracy = 0.894074074074074\n",
      "DecisionTree of Fold 3: Accuracy = 0.8932193732193732\n",
      "DecisionTree of Fold 4: Accuracy = 0.8974928774928775\n",
      "DecisionTree of Fold 5: Accuracy = 0.8899145299145299\n",
      "DecisionTree of Average Accuracy: 0.8944159544159543\n",
      "第 1 折的 PruneDecisionTree 準確度：0.6407977207977208\n",
      "第 2 折的 PruneDecisionTree 準確度：0.6438176638176638\n",
      "第 3 折的 PruneDecisionTree 準確度：0.6388034188034188\n",
      "第 4 折的 PruneDecisionTree 準確度：0.6278632478632479\n",
      "第 5 折的 PruneDecisionTree 準確度：0.6397150997150998\n",
      "平均 PruneDecisionTree 準確度：0.6381994301994303\n",
      "VotingClassifier of Fold 10969 Average Accuracy: 0.678548637068101\n",
      "VotingClassifier of Fold 10969 Average Accuracy: 0.6694320357370772\n",
      "VotingClassifier of Fold 10969 Average Accuracy: 0.6757224906554836\n",
      "VotingClassifier of Fold 10969 Average Accuracy: 0.6697966997903182\n",
      "VotingClassifier of Fold 10969 Average Accuracy: 0.6776369769349986\n",
      "平均 VotingClassifier 準確度：0.6742273680371957\n",
      "開始執行4個模型 10 folds跟Voting\n",
      "LinearClassifier訓練精確度: 57.54% | 驗證精確度: 57.78%\n",
      "LinearClassifier訓練精確度: 57.40% | 驗證精確度: 58.31%\n",
      "LinearClassifier訓練精確度: 57.50% | 驗證精確度: 58.31%\n",
      "LinearClassifier訓練精確度: 57.67% | 驗證精確度: 57.09%\n",
      "LinearClassifier訓練精確度: 57.60% | 驗證精確度: 56.75%\n",
      "LinearClassifier訓練精確度: 57.55% | 驗證精確度: 57.03%\n",
      "LinearClassifier訓練精確度: 57.57% | 驗證精確度: 57.20%\n",
      "LinearClassifier訓練精確度: 57.55% | 驗證精確度: 57.69%\n",
      "LinearClassifier訓練精確度: 57.68% | 驗證精確度: 57.14%\n",
      "LinearClassifier訓練精確度: 57.55% | 驗證精確度: 58.13%\n",
      "LinearClassifier K-Fold 交叉驗證完成。\n",
      "LinearClassifier平均訓練精確度: 57.56%\n",
      "LinearClassifier平均驗證精確度: 57.54%\n",
      "kNN of Accuracy for Fold 1: 0.7952136752136753\n",
      "kNN of Accuracy for Fold 2: 0.7943019943019943\n",
      "kNN of Accuracy for Fold 3: 0.7947578347578348\n",
      "kNN of Accuracy for Fold 4: 0.7905413105413105\n",
      "kNN of Accuracy for Fold 5: 0.7915669515669516\n",
      "kNN of Accuracy for Fold 6: 0.7963532763532764\n",
      "kNN of Accuracy for Fold 7: 0.7888319088319088\n",
      "kNN of Accuracy for Fold 8: 0.798974358974359\n",
      "kNN of Accuracy for Fold 9: 0.7922507122507122\n",
      "kNN of Accuracy for Fold 10: 0.7932763532763533\n",
      "kNN of Mean Accuracy across 10 folds: 0.7936068376068376\n",
      "DecisionTree of Fold 1: Accuracy = 0.8927635327635328\n",
      "DecisionTree of Fold 2: Accuracy = 0.8985754985754986\n",
      "DecisionTree of Fold 3: Accuracy = 0.8895726495726496\n",
      "DecisionTree of Fold 4: Accuracy = 0.8960683760683761\n",
      "DecisionTree of Fold 5: Accuracy = 0.8965242165242165\n",
      "DecisionTree of Fold 6: Accuracy = 0.8976638176638176\n",
      "DecisionTree of Fold 7: Accuracy = 0.8896866096866097\n",
      "DecisionTree of Fold 8: Accuracy = 0.9033618233618234\n",
      "DecisionTree of Fold 9: Accuracy = 0.8960683760683761\n",
      "DecisionTree of Fold 10: Accuracy = 0.8970940170940171\n",
      "DecisionTree of Average Accuracy: 0.8957378917378918\n",
      "第 1 折的 PruneDecisionTree 準確度：0.6394301994301994\n",
      "第 2 折的 PruneDecisionTree 準確度：0.642051282051282\n",
      "第 3 折的 PruneDecisionTree 準確度：0.6437606837606837\n",
      "第 4 折的 PruneDecisionTree 準確度：0.6404558404558405\n",
      "第 5 折的 PruneDecisionTree 準確度：0.6407977207977208\n",
      "第 6 折的 PruneDecisionTree 準確度：0.6341880341880342\n",
      "第 7 折的 PruneDecisionTree 準確度：0.6331623931623932\n",
      "第 8 折的 PruneDecisionTree 準確度：0.6374928774928775\n",
      "第 9 折的 PruneDecisionTree 準確度：0.6373789173789174\n",
      "第 10 折的 PruneDecisionTree 準確度：0.6454700854700854\n",
      "平均 PruneDecisionTree 準確度：0.6394188034188035\n",
      "VotingClassifier of Fold 10969 Average Accuracy: 0.6660588932445984\n",
      "VotingClassifier of Fold 10969 Average Accuracy: 0.6806454553742365\n",
      "VotingClassifier of Fold 10969 Average Accuracy: 0.6660588932445984\n",
      "VotingClassifier of Fold 10969 Average Accuracy: 0.6749931625490018\n",
      "VotingClassifier of Fold 10969 Average Accuracy: 0.6647825690582551\n",
      "VotingClassifier of Fold 10969 Average Accuracy: 0.6747196645090711\n",
      "VotingClassifier of Fold 10969 Average Accuracy: 0.6738080043759687\n",
      "VotingClassifier of Fold 10969 Average Accuracy: 0.6843832619199562\n",
      "VotingClassifier of Fold 10969 Average Accuracy: 0.6689762056705261\n",
      "VotingClassifier of Fold 10969 Average Accuracy: 0.6750843285623119\n",
      "平均 VotingClassifier 準確度：0.6729510438508524\n"
     ]
    }
   ],
   "source": [
    "#K-fold線性分類\n",
    "import model\n",
    "k_fold_list = [3,5,10]\n",
    "\n",
    "for k_fold in k_fold_list:\n",
    "    print(f'開始執行4個模型 {k_fold} folds跟Voting')\n",
    "    model1 = model.LinearClassifier()\n",
    "    Linear_list = model1.k_fold_cross_validation(X_train, y_train, k=k_fold)\n",
    "\n",
    "    model2 = model.kNN()\n",
    "    knn_list  = model2.kfold_cross_validation(X_train, y_train.to_numpy(), k=k_fold)\n",
    "\n",
    "    model3 = model.DecisionTreeClassifier() \n",
    "    tree_list = model3.k_fold_cross_validation(X_train, y_train, k=k_fold)\n",
    "\n",
    "    model4 = model.PruneDecisionTreeClassifier(max_depth=5, min_samples_split=2)  # 設置樹的最大深度\n",
    "    Ptree_list = model4.k_fold_cross_validation(X_train, y_train, k=k_fold)\n",
    "\n",
    "    Vote = model.VotingClassifier(Linear_list, knn_list, tree_list, Ptree_list)\n",
    "    pre = Vote.predict(X_test, y_test)"
   ]
  },
  {
   "cell_type": "markdown",
   "metadata": {},
   "source": [
    "###########################第三題結束###########################"
   ]
  },
  {
   "cell_type": "code",
   "execution_count": 22,
   "metadata": {},
   "outputs": [],
   "source": [
    "# #K-fold線性分類\n",
    "# import model\n",
    "# model = model.LinearClassifier()\n",
    "# Linear_list = model.k_fold_cross_validation(X_train, y_train, k=5)"
   ]
  },
  {
   "cell_type": "code",
   "execution_count": 23,
   "metadata": {},
   "outputs": [],
   "source": [
    "# import model\n",
    "# model = model.kNN()\n",
    "# knn_list  = model.kfold_cross_validation(X_train, y_train.to_numpy(), k=5)"
   ]
  },
  {
   "cell_type": "code",
   "execution_count": 24,
   "metadata": {},
   "outputs": [],
   "source": [
    "# import model\n",
    "\n",
    "# model = model.DecisionTreeClassifier() \n",
    "# tree_list = model.k_fold_cross_validation(X_train, y_train, k=5)"
   ]
  },
  {
   "cell_type": "code",
   "execution_count": 25,
   "metadata": {},
   "outputs": [],
   "source": [
    "# import model\n",
    "# model = model.PruneDecisionTreeClassifier(max_depth=5, min_samples_split=2)  # 設置樹的最大深度\n",
    "# Ptree_list = model.k_fold_cross_validation(X_train, y_train, k=5)"
   ]
  },
  {
   "cell_type": "code",
   "execution_count": null,
   "metadata": {},
   "outputs": [],
   "source": []
  },
  {
   "cell_type": "markdown",
   "metadata": {},
   "source": []
  },
  {
   "cell_type": "code",
   "execution_count": 26,
   "metadata": {},
   "outputs": [],
   "source": [
    "# import model\n",
    "# Vote = model.VotingClassifier(Linear_list, knn_list, tree_list, Ptree_list)\n",
    "# pre = Vote.predict(X_test, y_test)"
   ]
  }
 ],
 "metadata": {
  "kernelspec": {
   "display_name": "wen",
   "language": "python",
   "name": "python3"
  },
  "language_info": {
   "codemirror_mode": {
    "name": "ipython",
    "version": 3
   },
   "file_extension": ".py",
   "mimetype": "text/x-python",
   "name": "python",
   "nbconvert_exporter": "python",
   "pygments_lexer": "ipython3",
   "version": "3.8.0"
  }
 },
 "nbformat": 4,
 "nbformat_minor": 2
}
